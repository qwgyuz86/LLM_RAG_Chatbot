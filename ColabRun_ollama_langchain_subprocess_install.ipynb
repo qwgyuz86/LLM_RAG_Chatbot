{
  "nbformat": 4,
  "nbformat_minor": 0,
  "metadata": {
    "colab": {
      "provenance": [],
      "gpuType": "T4",
      "toc_visible": true,
      "authorship_tag": "ABX9TyNY0JMwNSgEkqNy+xOXOq5L",
      "include_colab_link": true
    },
    "kernelspec": {
      "name": "python3",
      "display_name": "Python 3"
    },
    "language_info": {
      "name": "python"
    },
    "accelerator": "GPU"
  },
  "cells": [
    {
      "cell_type": "markdown",
      "metadata": {
        "id": "view-in-github",
        "colab_type": "text"
      },
      "source": [
        "<a href=\"https://colab.research.google.com/github/qwgyuz86/LLM_RAG_Chatbot/blob/main/ColabRun_ollama_langchain_subprocess_install.ipynb\" target=\"_parent\"><img src=\"https://colab.research.google.com/assets/colab-badge.svg\" alt=\"Open In Colab\"/></a>"
      ]
    },
    {
      "cell_type": "markdown",
      "source": [
        "### Instruction:\n",
        "\n",
        "1. On the menu bar, hit \"Runtime\", hit \"Run all\"\n",
        "2. After it finished running, you will see the chatbot application popped up at the bottom of this notebook.\n",
        "3. You can click the gradio link shown and then interact with the chatbot\n",
        "\n",
        "### Note:\n",
        "\n",
        "- It will take about 3 minutes to finish this code and start the chatbot application"
      ],
      "metadata": {
        "id": "ypXvQnqU7n6a"
      }
    },
    {
      "cell_type": "code",
      "execution_count": null,
      "metadata": {
        "id": "_grOpdawFFmW"
      },
      "outputs": [],
      "source": [
        "import subprocess\n",
        "import time\n",
        "\n",
        "try:\n",
        "    # Step 1: Install Ollama\n",
        "    install_command = \"curl -fsSL https://ollama.com/install.sh | sh\"\n",
        "    subprocess.run(install_command, shell=True, check=True)\n",
        "    print(\"Ollama installed successfully.\")\n",
        "\n",
        "    # Step 2: Start the Ollama server\n",
        "    serve_command = \"ollama serve\"\n",
        "    server_process = subprocess.Popen(serve_command, shell=True)\n",
        "    print(\"Ollama server is starting...\")\n",
        "\n",
        "    # Give the server a few seconds to start\n",
        "    time.sleep(10)\n",
        "\n",
        "    # Step 3: Pull the Llama model\n",
        "    pull_command = \"ollama run wangshenzhi/llama3-8b-chinese-chat-ollama-q4\"\n",
        "    subprocess.run(pull_command, shell=True, check=True)\n",
        "    print(\"Llama model pulled successfully.\")\n",
        "\n",
        "except subprocess.CalledProcessError as e:\n",
        "    print(f\"Error occurred: {e}\")\n",
        "except Exception as e:\n",
        "    print(f\"Unexpected error: {e}\")\n"
      ]
    },
    {
      "cell_type": "code",
      "source": [
        "!ollama list"
      ],
      "metadata": {
        "id": "J3LK8AaSFml6"
      },
      "execution_count": null,
      "outputs": []
    },
    {
      "cell_type": "code",
      "source": [
        "!pip install gradio==4.44.1\n",
        "!pip install langchain_community\n",
        "!pip install langchain\n",
        "!pip install langchain_huggingface\n",
        "!pip install langchain_ollama\n",
        "!pip install chromadb\n",
        "!pip install datasets\n",
        "!pip install sentence-transformers\n",
        "!pip install langid\n",
        "!pip install iso639-lang"
      ],
      "metadata": {
        "id": "YNlekdC4GxEw"
      },
      "execution_count": null,
      "outputs": []
    },
    {
      "cell_type": "code",
      "execution_count": null,
      "metadata": {
        "id": "523afd4b-b606-4caf-b507-da02db400276"
      },
      "outputs": [],
      "source": [
        "# Imports\n",
        "\n",
        "from langchain_community.document_loaders import HuggingFaceDatasetLoader\n",
        "from langchain.text_splitter import CharacterTextSplitter\n",
        "from langchain_huggingface.embeddings import HuggingFaceEmbeddings\n",
        "from langchain.vectorstores import Chroma\n",
        "from langchain.memory import ConversationBufferMemory\n",
        "from langchain_ollama import OllamaLLM\n",
        "from langchain.prompts import PromptTemplate\n",
        "from langchain.chains import ConversationalRetrievalChain\n",
        "import textwrap\n",
        "import gradio as gr\n",
        "import langid\n",
        "from iso639 import Lang\n"
      ]
    },
    {
      "cell_type": "code",
      "execution_count": null,
      "metadata": {
        "id": "b14ee8b5-4eb7-4f40-be58-502860e5001d"
      },
      "outputs": [],
      "source": [
        "# Set up Text Splitter\n",
        "\n",
        "def setup_text_splitter(split_separator, split_chunk_size, split_chunk_overlap_size, split_length_function):\n",
        "\n",
        "    text_splitter = CharacterTextSplitter(\n",
        "        separator = split_separator,\n",
        "        chunk_size = split_chunk_size,\n",
        "        chunk_overlap = split_chunk_overlap_size,\n",
        "        length_function = split_length_function)\n",
        "\n",
        "    return text_splitter"
      ]
    },
    {
      "cell_type": "code",
      "execution_count": null,
      "metadata": {
        "id": "b43d3417-500a-4231-8f96-9c491d5ac6f1"
      },
      "outputs": [],
      "source": [
        "# Load the external database for RAG and setting up Embedding\n",
        "\n",
        "def load_and_process_data(dataset_name, page_content_column, text_splitter):\n",
        "\n",
        "    loader = HuggingFaceDatasetLoader(dataset_name, page_content_column)\n",
        "    data = loader.load()\n",
        "    split_data = text_splitter.split_documents(data)\n",
        "\n",
        "    return split_data"
      ]
    },
    {
      "cell_type": "code",
      "execution_count": null,
      "metadata": {
        "id": "11152085-61e6-4f12-8993-edbc7459f861"
      },
      "outputs": [],
      "source": [
        "def setup_embedding(embedding_model_choice, embed_device_choice, embed_normalization_option):\n",
        "\n",
        "    hf_embeddings = HuggingFaceEmbeddings(model_name=embedding_model_choice,\n",
        "        model_kwargs = {'device': embed_device_choice},\n",
        "        encode_kwargs = {'normalize_embeddings': embed_normalization_option}\n",
        "                                         )\n",
        "\n",
        "    return hf_embeddings"
      ]
    },
    {
      "cell_type": "code",
      "execution_count": null,
      "metadata": {
        "id": "cb5048d7-c488-4b1a-9670-80cfe9f56e75"
      },
      "outputs": [],
      "source": [
        "def setup_vectordb_retriever(split_data, hf_embeddings, persist_directory_location, retrieve_k_choice, retrieve_search_type_choice):\n",
        "\n",
        "    vectordb = Chroma.from_documents(\n",
        "    documents=split_data,\n",
        "    embedding=hf_embeddings,\n",
        "    persist_directory=persist_directory_location\n",
        "    )\n",
        "\n",
        "    retriever = vectordb.as_retriever(search_kwargs={\"k\": retrieve_k_choice}, search_type=retrieve_search_type_choice)\n",
        "\n",
        "    return retriever\n"
      ]
    },
    {
      "cell_type": "code",
      "execution_count": null,
      "metadata": {
        "id": "2cef25b5-4b8a-4506-910c-89ca7180d8b8"
      },
      "outputs": [],
      "source": [
        "def setup_memory(memory_key_name, memory_input_name, memory_output_name, memory_return_message_option):\n",
        "\n",
        "    memory = ConversationBufferMemory(\n",
        "    memory_key = memory_key_name,\n",
        "    input_key = memory_input_name,\n",
        "    output_key = memory_output_name,\n",
        "    return_messages = memory_return_message_option\n",
        "    )\n",
        "\n",
        "    return memory"
      ]
    },
    {
      "cell_type": "code",
      "execution_count": null,
      "metadata": {
        "id": "51a419d7-ce0d-4c70-a37b-b4eb8058ae8e"
      },
      "outputs": [],
      "source": [
        "def setup_ollama_model(ollama_model_choice, ollama_temp):\n",
        "\n",
        "    llm_chosen = OllamaLLM(model = ollama_model_choice, temperature = ollama_temp)\n",
        "\n",
        "    return llm_chosen"
      ]
    },
    {
      "cell_type": "code",
      "execution_count": null,
      "metadata": {
        "id": "29f4f71a-4ca1-4ae2-b1de-aef973568dbc"
      },
      "outputs": [],
      "source": [
        "def setup_prompt(base_prompt_template, prompt_input_list):\n",
        "\n",
        "    base_prompt = PromptTemplate(\n",
        "            template = base_prompt_template,\n",
        "            input_variables = prompt_input_list)\n",
        "\n",
        "    return base_prompt"
      ]
    },
    {
      "cell_type": "code",
      "execution_count": null,
      "metadata": {
        "id": "e5bb48f3-a145-4e21-b5fb-189946f9dfd5"
      },
      "outputs": [],
      "source": [
        "def build_rag_chain(llm_chosen, retriever, memory, chain_return_source_option, chain_return_generate_quest_option, chain_verbose_option, base_prompt):\n",
        "\n",
        "    llm_with_rag_chain_and_memory = ConversationalRetrievalChain.from_llm(\n",
        "        llm = llm_chosen,\n",
        "        retriever = retriever,\n",
        "        memory = memory,\n",
        "        return_source_documents = chain_return_source_option,\n",
        "        return_generated_question = chain_return_generate_quest_option,\n",
        "        verbose = chain_verbose_option,\n",
        "        combine_docs_chain_kwargs = {'prompt': base_prompt}\n",
        "        )\n",
        "\n",
        "    return llm_with_rag_chain_and_memory"
      ]
    },
    {
      "cell_type": "code",
      "execution_count": null,
      "metadata": {
        "id": "bf228a7a-5f23-4205-87d0-707f2381f191"
      },
      "outputs": [],
      "source": [
        "def wrap_text_preserve_newlines(text, width=110):\n",
        "    # Split the input text into lines based on newline characters\n",
        "    lines = text.split('\\n')\n",
        "\n",
        "    # Wrap each line individually\n",
        "    wrapped_lines = [textwrap.fill(line, width=width) for line in lines]\n",
        "\n",
        "    # Join the wrapped lines back together using newline characters\n",
        "    wrapped_text = '\\n'.join(wrapped_lines)\n",
        "\n",
        "    return wrapped_text\n"
      ]
    },
    {
      "cell_type": "code",
      "execution_count": null,
      "metadata": {
        "id": "8601a191-09a5-4f15-802d-ac416d9d673f"
      },
      "outputs": [],
      "source": [
        "def format_response_with_source_and_memory(llm_response):\n",
        "    # Initialize an empty list to collect all parts of the output\n",
        "    output = []\n",
        "\n",
        "    # Add the answer\n",
        "    output.append('\\n\\n==================== Chatbot Answer:====================')\n",
        "    output.append(wrap_text_preserve_newlines(llm_response['answer']))\n",
        "\n",
        "    # Add sources\n",
        "    output.append('\\n\\n====================Other Relevant Information and Sources:====================')\n",
        "    for source in llm_response[\"source_documents\"]:\n",
        "        output.append(source.metadata['question'])\n",
        "        output.append(source.page_content)\n",
        "\n",
        "    # Add history\n",
        "    output.append('\\n\\n====================Chat History:====================')\n",
        "    for history in llm_response['chat_history']:\n",
        "        output.append(history.content)\n",
        "\n",
        "    # Combine all parts into a single string and return\n",
        "    return '\\n'.join(output)"
      ]
    },
    {
      "cell_type": "code",
      "source": [
        "def detect_language(input_string):\n",
        "\n",
        "    #detect the language\n",
        "    input_lang_code = langid.classify(input_string)[0]\n",
        "\n",
        "    #convert ISO 639 lang code to major language\n",
        "    input_language = Lang(input_lang_code).name\n",
        "\n",
        "    return input_language"
      ],
      "metadata": {
        "id": "LM1jrTOoj5MD"
      },
      "execution_count": null,
      "outputs": []
    },
    {
      "cell_type": "code",
      "execution_count": null,
      "metadata": {
        "id": "3a1cb402-4f8f-405f-b7c6-ecc16473c4d1"
      },
      "outputs": [],
      "source": [
        "def talk_to_chatbot(input_question):\n",
        "\n",
        "    input_language = detect_language(input_question)\n",
        "\n",
        "    if input_language != \"English\":\n",
        "        # print(f\"Translating from {input_language} to English...\")\n",
        "        input_question = llm_chosen.invoke(f\"translate this {input_language} content to English: {input_question}\")\n",
        "\n",
        "    # print(\"Retrieving Information...\")\n",
        "    llm_response = llm_with_rag_chain_and_memory.invoke(input_question)\n",
        "    chatbot_answer = format_response_with_source_and_memory(llm_response)\n",
        "\n",
        "    if input_language != \"English\":\n",
        "        # print(f\"translating from English to {input_language}...\")\n",
        "        chatbot_answer = llm_chosen.invoke(f\"translate this English content to {input_language}: {chatbot_answer}\")\n",
        "\n",
        "    return chatbot_answer"
      ]
    },
    {
      "cell_type": "code",
      "execution_count": null,
      "metadata": {
        "id": "47689763-ec05-4e4c-b74e-b7dcf10fe4e5"
      },
      "outputs": [],
      "source": [
        "def clear_chat_history(clear_memory=True):\n",
        "    if clear_memory:\n",
        "        return memory.clear()"
      ]
    },
    {
      "cell_type": "code",
      "execution_count": null,
      "metadata": {
        "id": "d6407f9f-616d-4527-99ae-a80b2ba1a9db"
      },
      "outputs": [],
      "source": [
        "# Set Variables\n",
        "\n",
        "dataset_name = \"MakTek/Customer_support_faqs_dataset\"\n",
        "page_content_column = \"answer\"\n",
        "split_separator = \"\\n\"\n",
        "split_chunk_size = 1000\n",
        "split_chunk_overlap_size = 150\n",
        "split_length_function = len\n",
        "\n",
        "embedding_model_choice = \"hkunlp/instructor-large\"\n",
        "# embed_device_choice = \"cpu\"\n",
        "embed_device_choice = \"cuda\"\n",
        "embed_normalization_option = True\n",
        "\n",
        "persist_directory_location = 'docs/chroma/'\n",
        "retrieve_k_choice = 3\n",
        "retrieve_search_type_choice = \"mmr\"\n",
        "\n",
        "memory_key_name = \"chat_history\"\n",
        "memory_input_name = \"question\"\n",
        "memory_output_name = \"answer\"\n",
        "memory_return_message_option = True\n",
        "\n",
        "#ollama_model_choice = \"llama3.2\"\n",
        "ollama_model_choice = \"wangshenzhi/llama3-8b-chinese-chat-ollama-q4\"\n",
        "ollama_temp = 0.1\n",
        "\n",
        "base_prompt_template = \"\"\"System: You are a ABC-Company customer service representative.\n",
        "\\n\\nInstruction: Answer the customer's question based on following context and chat history if you know the answer. Otherwise, end the answer with 'I am not sure about the answer, please contact our human service for assistance. Thank You!'.\n",
        "\\n\\nContext: {context}\n",
        "\\n\\nChat history: {chat_history}\n",
        "\\n\\nQuestion: {question}\n",
        "\\n\\nOutput Answer: \"\"\"\n",
        "prompt_input_list = [\"context\", \"question\", \"chat_history\"]\n",
        "\n",
        "chain_return_source_option = True\n",
        "chain_return_generate_quest_option = True\n",
        "chain_verbose_option = False"
      ]
    },
    {
      "cell_type": "code",
      "execution_count": null,
      "metadata": {
        "id": "aee61e12-cae2-441f-9213-f9bb0e83768b"
      },
      "outputs": [],
      "source": [
        "text_splitter = setup_text_splitter(split_separator, split_chunk_size, split_chunk_overlap_size, split_length_function)\n",
        "split_data = load_and_process_data(dataset_name, page_content_column, text_splitter)\n",
        "hf_embeddings = setup_embedding(embedding_model_choice, embed_device_choice, embed_normalization_option)\n",
        "retriever = setup_vectordb_retriever(split_data, hf_embeddings, persist_directory_location, retrieve_k_choice, retrieve_search_type_choice)\n",
        "memory = setup_memory(memory_key_name, memory_input_name, memory_output_name, memory_return_message_option)\n",
        "llm_chosen = setup_ollama_model(ollama_model_choice, ollama_temp)\n",
        "base_prompt = setup_prompt(base_prompt_template, prompt_input_list)\n",
        "llm_with_rag_chain_and_memory = build_rag_chain(llm_chosen, retriever, memory, chain_return_source_option, chain_return_generate_quest_option, chain_verbose_option, base_prompt)\n"
      ]
    },
    {
      "cell_type": "code",
      "execution_count": null,
      "metadata": {
        "id": "a32b7ccb-3785-430c-9b4a-5b8407ff6793"
      },
      "outputs": [],
      "source": [
        "memory.clear()"
      ]
    },
    {
      "cell_type": "code",
      "execution_count": null,
      "metadata": {
        "id": "933b1fa6-6e30-4abb-9cd9-f491b9a81e10"
      },
      "outputs": [],
      "source": [
        "#memory.chat_memory.messages"
      ]
    },
    {
      "cell_type": "code",
      "source": [
        "# Make sure Ollama is serving\n",
        "\n",
        "serve_command = \"ollama serve\"\n",
        "server_process = subprocess.Popen(serve_command, shell=True)\n",
        "print(\"Ollama server is starting...\")"
      ],
      "metadata": {
        "id": "MH1szTBOlq6u"
      },
      "execution_count": null,
      "outputs": []
    },
    {
      "cell_type": "code",
      "source": [
        "# Check to make sure the right model is pulled\n",
        "\n",
        "!ollama list"
      ],
      "metadata": {
        "id": "q45ftn7cjoeJ"
      },
      "execution_count": null,
      "outputs": []
    },
    {
      "cell_type": "markdown",
      "metadata": {
        "id": "108b7710-66d0-4dae-943d-c9e8e40c8d6c"
      },
      "source": [
        "# Gradio Application Build"
      ]
    },
    {
      "cell_type": "code",
      "execution_count": null,
      "metadata": {
        "id": "fa7285a7-eeb3-4732-bff0-31d61d701fac"
      },
      "outputs": [],
      "source": [
        "set_gradio_theme = gr.themes.Glass(primary_hue=\"orange\", secondary_hue=\"gray\").set(\n",
        "    button_primary_background_fill=\"orange\",\n",
        "    button_primary_background_fill_hover=\"green\",\n",
        ")\n",
        "\n",
        "with gr.Blocks(theme=set_gradio_theme) as demo:\n",
        "\n",
        "    gr.Markdown(\n",
        "    \"\"\"\n",
        "    # Welcome visitor to the our Multilingual Customer Service Chatbot!\n",
        "    ## I am a demo. Feel free to ask me any questions related to your order and our company in your own language.\n",
        "    ### I can speak most major languages such as English, Chinese, French, Spanish, Japanese etc...\n",
        "\n",
        "    ### I am built using Ollama-llama3 llm model fine-tuned by Wangshenzhi and Langchain for RAG (Retrieval-Augmented Generation).\n",
        "    ### For technical details, please see info at the bottom of the page.\n",
        "\n",
        "    Start talking to me by typing below.\n",
        "\n",
        "    Please note that:\n",
        "    - The output sources and chat-history are mostly for debug and monitor purposes during development. It is for making sure the chatbot is responding properly.\n",
        "    - The application is running on GPU, so the response time is pretty fast, but multilingual processing can take slightly longer than English.\n",
        "    \"\"\")\n",
        "\n",
        "    question = gr.Textbox(label=\"Ask me a question (You can ask in your own language!)\", placeholder=\"Can I request a refund?\")\n",
        "    send_btn = gr.Button(\"Send Question\")\n",
        "    answer = gr.Textbox(label=\"Chatbot response\", lines=20)\n",
        "\n",
        "    send_btn.click(fn=talk_to_chatbot, inputs=question, outputs=answer, api_name=\"customer_service_chatbot\")\n",
        "\n",
        "    gr.Markdown(\n",
        "    \"\"\"\n",
        "    If clear chat history, the next query's chat history will be emptined and refreshed.\n",
        "    \"\"\")\n",
        "    clear_btn = gr.Button(\"Clear Chat History\")\n",
        "    clear_btn.click(fn=clear_chat_history)\n",
        "\n",
        "\n",
        "    gr.Markdown(\n",
        "    \"\"\"\n",
        "    ## Chatbot Technical Details:\n",
        "\n",
        "    #### Model: llama3-8b-chinese-chat-ollama-q4(8B parameters)\n",
        "    #### Dataset: Hugging Face Hub \"MakTek/Customer_support_faqs_dataset\"\n",
        "    #### Embedding: Hugging Face Hub \"hkunlp/instructor-large\"\n",
        "    #### Vector Database: Chroma\n",
        "    #### Retrieval Search Type: Maximal Marginal Relevance (MMR)\n",
        "    #### Prompt:\n",
        "    LLM is told that it is a customer representative from ABC-company and to use chat history and RAG context to answer questions\n",
        "    If it does not know the answer, it is told to say it does not know and tell user to contact human service\n",
        "    #### Memory:\n",
        "    Chat memory is fed into the input so that the chatbot is aware of the context of the conversation.\n",
        "    However, as the chat history gets long, it becomes confused. It is a limitation of this simple demo.\n",
        "    #### Temperature: 0.1\n",
        "    The chatbot is not encouraged to be creative but use factual answers provided in retrieval results.\n",
        "\n",
        "    #### Good Testing Question Example:\n",
        "    - Who are you?\n",
        "        - The answer should show the role assigned in prompt is working.\n",
        "    - How do I go to Mars?\n",
        "        - The answer should show that when asked about things it doesn't know or irrelevant, it knows it should refer users to human service.\n",
        "    - Can I talk to someone? Followed by next query: When can I do that?\n",
        "        - This question pair should show that the chatbot has memory and it can understand what it means by \"that\".\n",
        "    - Other typical customer support questions:\n",
        "        - Can I request a refund? (or in chinese: 我可以申請退款嗎？)\n",
        "        - How do I track my order? (or in chinese: 怎樣查找我的訂單？)\n",
        "\n",
        "    \"\"\")\n",
        "\n",
        "demo.launch(share=True, debug=False)"
      ]
    },
    {
      "cell_type": "code",
      "execution_count": null,
      "metadata": {
        "id": "0cf74760-ca84-48f8-abe8-1d6ddb6c70c2"
      },
      "outputs": [],
      "source": [
        "# demo.close()"
      ]
    },
    {
      "cell_type": "code",
      "execution_count": null,
      "metadata": {
        "id": "ec3b7b06-b2ce-4c39-91e4-ec991f16616c"
      },
      "outputs": [],
      "source": [
        "#"
      ]
    }
  ]
}